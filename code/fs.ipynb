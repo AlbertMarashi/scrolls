{
 "cells": [
  {
   "cell_type": "code",
   "execution_count": 54,
   "metadata": {},
   "outputs": [
    {
     "name": "stdout",
     "output_type": "stream",
     "text": [
      "137.0359991939282852251119366\n"
     ]
    }
   ],
   "source": [
    "from decimal import Decimal\n",
    "import math\n",
    "\n",
    "# Solutions to x^4 = x + 1\n",
    "y = Decimal(\"1.220744084605759475361685\")\n",
    "b = Decimal(\"-0.2481260628026219318866565\")\n",
    "t = y * b\n",
    "\n",
    "alpha0 = (t**Decimal(2)) / (Decimal(4) * Decimal(math.pi))\n",
    "\n",
    "a_exp = Decimal(137.035999074)\n",
    "print(((1/alpha0) + alpha0 * Decimal(9.45515)))\n"
   ]
  },
  {
   "cell_type": "code",
   "execution_count": null,
   "metadata": {},
   "outputs": [],
   "source": []
  }
 ],
 "metadata": {
  "kernelspec": {
   "display_name": ".venv",
   "language": "python",
   "name": "python3"
  },
  "language_info": {
   "codemirror_mode": {
    "name": "ipython",
    "version": 3
   },
   "file_extension": ".py",
   "mimetype": "text/x-python",
   "name": "python",
   "nbconvert_exporter": "python",
   "pygments_lexer": "ipython3",
   "version": "3.11.5"
  }
 },
 "nbformat": 4,
 "nbformat_minor": 2
}
